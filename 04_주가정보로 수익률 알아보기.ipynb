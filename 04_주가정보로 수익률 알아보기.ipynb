{
 "cells": [
  {
   "cell_type": "code",
   "execution_count": 1,
   "metadata": {},
   "outputs": [],
   "source": [
    "# 기본\n",
    "import pandas as pd\n",
    "import numpy as np\n",
    "import matplotlib.pyplot as plt\n",
    "import seaborn as sns\n",
    "\n",
    "# 경고 뜨지 않게 설정\n",
    "import warnings\n",
    "warnings.filterwarnings('ignore')\n",
    "\n",
    "# 그래프 설정\n",
    "plt.rcParams['font.family'] = 'Malgun Gothic'\n",
    "# plt.rcParams['font.family'] = 'AppleGothic'\n",
    "plt.rcParams['font.size'] = 16\n",
    "plt.rcParams['figure.figsize'] = 20, 10\n",
    "plt.rcParams['axes.unicode_minus'] = False\n",
    "\n",
    "# 데이터 전처리 알고리즘\n",
    "from sklearn.preprocessing import LabelEncoder\n",
    "from sklearn.preprocessing import StandardScaler\n",
    "\n",
    "# 학습용과 검증용으로 나누는 함수\n",
    "from sklearn.model_selection import train_test_split\n",
    "\n",
    "# 교차 검증\n",
    "# 지표를 하나만 설정할 경우\n",
    "from sklearn.model_selection import cross_val_score\n",
    "# 지표를 하나 이상 설정할 경우\n",
    "from sklearn.model_selection import cross_validate\n",
    "from sklearn.model_selection import KFold\n",
    "from sklearn.model_selection import StratifiedKFold\n",
    "\n",
    "# 모델의 최적의 하이퍼파라미터를 찾기 위한 도구\n",
    "from sklearn.model_selection import GridSearchCV\n",
    "\n",
    "# 평가함수\n",
    "# 분류용\n",
    "from sklearn.metrics import accuracy_score\n",
    "from sklearn.metrics import precision_score\n",
    "from sklearn.metrics import recall_score\n",
    "from sklearn.metrics import f1_score\n",
    "from sklearn.metrics import roc_auc_score\n",
    "\n",
    "# 회귀용\n",
    "from sklearn.metrics import r2_score\n",
    "from sklearn.metrics import mean_squared_error\n",
    "\n",
    "# 머신러닝 알고리즘 - 분류\n",
    "from sklearn.neighbors import KNeighborsClassifier\n",
    "from sklearn.linear_model import LogisticRegression\n",
    "from sklearn.svm import SVC\n",
    "from sklearn.tree import DecisionTreeClassifier\n",
    "from sklearn.ensemble import RandomForestClassifier\n",
    "from sklearn.ensemble import AdaBoostClassifier\n",
    "from sklearn.ensemble import GradientBoostingClassifier\n",
    "from lightgbm import LGBMClassifier\n",
    "from xgboost import XGBClassifier\n",
    "from sklearn.ensemble import VotingClassifier\n",
    "\n",
    "# 머신러닝 알고리즘 - 회귀\n",
    "from sklearn.neighbors import KNeighborsRegressor\n",
    "from sklearn.linear_model import LinearRegression\n",
    "from sklearn.linear_model import Ridge\n",
    "from sklearn.linear_model import Lasso\n",
    "from sklearn.linear_model import ElasticNet\n",
    "from sklearn.svm import SVR\n",
    "from sklearn.tree import DecisionTreeRegressor\n",
    "from sklearn.ensemble import RandomForestRegressor\n",
    "from sklearn.ensemble import AdaBoostRegressor\n",
    "from sklearn.ensemble import GradientBoostingRegressor\n",
    "from lightgbm import LGBMRegressor\n",
    "from xgboost import XGBRegressor\n",
    "from sklearn.ensemble import VotingRegressor\n",
    "\n",
    "# 차원축소\n",
    "from sklearn.decomposition import PCA\n",
    "from sklearn.discriminant_analysis import LinearDiscriminantAnalysis\n",
    "\n",
    "# 군집화\n",
    "from sklearn.cluster import KMeans\n",
    "from sklearn.cluster import MeanShift\n",
    "from sklearn.cluster import estimate_bandwidth\n",
    "\n",
    "# 시간 측정을 위한 시간 모듈\n",
    "import datetime\n",
    "# 주식 정보를 읽어오기 위한 라이브러리\n",
    "from pandas_datareader import data"
   ]
  },
  {
   "cell_type": "markdown",
   "metadata": {},
   "source": [
    "### 삼성전자 주식 정보 읽어오기"
   ]
  },
  {
   "cell_type": "code",
   "execution_count": 2,
   "metadata": {},
   "outputs": [],
   "source": [
    "# 시작날짜\n",
    "start = datetime.datetime(2010, 1, 1)\n",
    "# 종료날짜\n",
    "end = datetime.datetime(2020, 12, 31)"
   ]
  },
  {
   "cell_type": "code",
   "execution_count": 3,
   "metadata": {},
   "outputs": [
    {
     "data": {
      "text/html": [
       "<div>\n",
       "<style scoped>\n",
       "    .dataframe tbody tr th:only-of-type {\n",
       "        vertical-align: middle;\n",
       "    }\n",
       "\n",
       "    .dataframe tbody tr th {\n",
       "        vertical-align: top;\n",
       "    }\n",
       "\n",
       "    .dataframe thead th {\n",
       "        text-align: right;\n",
       "    }\n",
       "</style>\n",
       "<table border=\"1\" class=\"dataframe\">\n",
       "  <thead>\n",
       "    <tr style=\"text-align: right;\">\n",
       "      <th></th>\n",
       "      <th>High</th>\n",
       "      <th>Low</th>\n",
       "      <th>Open</th>\n",
       "      <th>Close</th>\n",
       "      <th>Volume</th>\n",
       "      <th>Adj Close</th>\n",
       "    </tr>\n",
       "    <tr>\n",
       "      <th>Date</th>\n",
       "      <th></th>\n",
       "      <th></th>\n",
       "      <th></th>\n",
       "      <th></th>\n",
       "      <th></th>\n",
       "      <th></th>\n",
       "    </tr>\n",
       "  </thead>\n",
       "  <tbody>\n",
       "    <tr>\n",
       "      <th>2010-01-04</th>\n",
       "      <td>16180.0</td>\n",
       "      <td>16000.0</td>\n",
       "      <td>16060.0</td>\n",
       "      <td>16180.0</td>\n",
       "      <td>11950800.0</td>\n",
       "      <td>13134.010742</td>\n",
       "    </tr>\n",
       "    <tr>\n",
       "      <th>2010-01-05</th>\n",
       "      <td>16580.0</td>\n",
       "      <td>16300.0</td>\n",
       "      <td>16520.0</td>\n",
       "      <td>16440.0</td>\n",
       "      <td>27925850.0</td>\n",
       "      <td>13345.065430</td>\n",
       "    </tr>\n",
       "    <tr>\n",
       "      <th>2010-01-06</th>\n",
       "      <td>16820.0</td>\n",
       "      <td>16520.0</td>\n",
       "      <td>16580.0</td>\n",
       "      <td>16820.0</td>\n",
       "      <td>22948850.0</td>\n",
       "      <td>13653.530273</td>\n",
       "    </tr>\n",
       "    <tr>\n",
       "      <th>2010-01-07</th>\n",
       "      <td>16820.0</td>\n",
       "      <td>16260.0</td>\n",
       "      <td>16820.0</td>\n",
       "      <td>16260.0</td>\n",
       "      <td>22107950.0</td>\n",
       "      <td>13198.952148</td>\n",
       "    </tr>\n",
       "    <tr>\n",
       "      <th>2010-01-08</th>\n",
       "      <td>16420.0</td>\n",
       "      <td>16120.0</td>\n",
       "      <td>16400.0</td>\n",
       "      <td>16420.0</td>\n",
       "      <td>14777550.0</td>\n",
       "      <td>13328.830078</td>\n",
       "    </tr>\n",
       "    <tr>\n",
       "      <th>...</th>\n",
       "      <td>...</td>\n",
       "      <td>...</td>\n",
       "      <td>...</td>\n",
       "      <td>...</td>\n",
       "      <td>...</td>\n",
       "      <td>...</td>\n",
       "    </tr>\n",
       "    <tr>\n",
       "      <th>2020-12-23</th>\n",
       "      <td>74000.0</td>\n",
       "      <td>72300.0</td>\n",
       "      <td>72400.0</td>\n",
       "      <td>73900.0</td>\n",
       "      <td>19411326.0</td>\n",
       "      <td>71766.921875</td>\n",
       "    </tr>\n",
       "    <tr>\n",
       "      <th>2020-12-24</th>\n",
       "      <td>78800.0</td>\n",
       "      <td>74000.0</td>\n",
       "      <td>74100.0</td>\n",
       "      <td>77800.0</td>\n",
       "      <td>32502870.0</td>\n",
       "      <td>75554.351562</td>\n",
       "    </tr>\n",
       "    <tr>\n",
       "      <th>2020-12-28</th>\n",
       "      <td>80100.0</td>\n",
       "      <td>78200.0</td>\n",
       "      <td>79000.0</td>\n",
       "      <td>78700.0</td>\n",
       "      <td>40085044.0</td>\n",
       "      <td>76428.375000</td>\n",
       "    </tr>\n",
       "    <tr>\n",
       "      <th>2020-12-29</th>\n",
       "      <td>78900.0</td>\n",
       "      <td>77300.0</td>\n",
       "      <td>78800.0</td>\n",
       "      <td>78300.0</td>\n",
       "      <td>30339449.0</td>\n",
       "      <td>77953.601562</td>\n",
       "    </tr>\n",
       "    <tr>\n",
       "      <th>2020-12-30</th>\n",
       "      <td>81300.0</td>\n",
       "      <td>77300.0</td>\n",
       "      <td>77400.0</td>\n",
       "      <td>81000.0</td>\n",
       "      <td>29417421.0</td>\n",
       "      <td>80641.656250</td>\n",
       "    </tr>\n",
       "  </tbody>\n",
       "</table>\n",
       "<p>2708 rows × 6 columns</p>\n",
       "</div>"
      ],
      "text/plain": [
       "               High      Low     Open    Close      Volume     Adj Close\n",
       "Date                                                                    \n",
       "2010-01-04  16180.0  16000.0  16060.0  16180.0  11950800.0  13134.010742\n",
       "2010-01-05  16580.0  16300.0  16520.0  16440.0  27925850.0  13345.065430\n",
       "2010-01-06  16820.0  16520.0  16580.0  16820.0  22948850.0  13653.530273\n",
       "2010-01-07  16820.0  16260.0  16820.0  16260.0  22107950.0  13198.952148\n",
       "2010-01-08  16420.0  16120.0  16400.0  16420.0  14777550.0  13328.830078\n",
       "...             ...      ...      ...      ...         ...           ...\n",
       "2020-12-23  74000.0  72300.0  72400.0  73900.0  19411326.0  71766.921875\n",
       "2020-12-24  78800.0  74000.0  74100.0  77800.0  32502870.0  75554.351562\n",
       "2020-12-28  80100.0  78200.0  79000.0  78700.0  40085044.0  76428.375000\n",
       "2020-12-29  78900.0  77300.0  78800.0  78300.0  30339449.0  77953.601562\n",
       "2020-12-30  81300.0  77300.0  77400.0  81000.0  29417421.0  80641.656250\n",
       "\n",
       "[2708 rows x 6 columns]"
      ]
     },
     "execution_count": 3,
     "metadata": {},
     "output_type": "execute_result"
    }
   ],
   "source": [
    "# 삼성전자 주식 데이터를 가져온다\n",
    "slb = data.DataReader('005930.KS', 'yahoo', start, end)\n",
    "slb"
   ]
  },
  {
   "cell_type": "code",
   "execution_count": 4,
   "metadata": {},
   "outputs": [],
   "source": [
    "# 파일로 저장한다.\n",
    "slb.to_csv('data/ss_stock.csv')"
   ]
  },
  {
   "cell_type": "markdown",
   "metadata": {},
   "source": [
    "### 저장한 정보를 읽어온다."
   ]
  },
  {
   "cell_type": "code",
   "execution_count": 7,
   "metadata": {},
   "outputs": [
    {
     "data": {
      "text/html": [
       "<div>\n",
       "<style scoped>\n",
       "    .dataframe tbody tr th:only-of-type {\n",
       "        vertical-align: middle;\n",
       "    }\n",
       "\n",
       "    .dataframe tbody tr th {\n",
       "        vertical-align: top;\n",
       "    }\n",
       "\n",
       "    .dataframe thead th {\n",
       "        text-align: right;\n",
       "    }\n",
       "</style>\n",
       "<table border=\"1\" class=\"dataframe\">\n",
       "  <thead>\n",
       "    <tr style=\"text-align: right;\">\n",
       "      <th></th>\n",
       "      <th>High</th>\n",
       "      <th>Low</th>\n",
       "      <th>Open</th>\n",
       "      <th>Close</th>\n",
       "      <th>Volume</th>\n",
       "      <th>Adj Close</th>\n",
       "    </tr>\n",
       "    <tr>\n",
       "      <th>Date</th>\n",
       "      <th></th>\n",
       "      <th></th>\n",
       "      <th></th>\n",
       "      <th></th>\n",
       "      <th></th>\n",
       "      <th></th>\n",
       "    </tr>\n",
       "  </thead>\n",
       "  <tbody>\n",
       "    <tr>\n",
       "      <th>2010-01-04</th>\n",
       "      <td>16180.0</td>\n",
       "      <td>16000.0</td>\n",
       "      <td>16060.0</td>\n",
       "      <td>16180.0</td>\n",
       "      <td>11950800.0</td>\n",
       "      <td>13134.010742</td>\n",
       "    </tr>\n",
       "    <tr>\n",
       "      <th>2010-01-05</th>\n",
       "      <td>16580.0</td>\n",
       "      <td>16300.0</td>\n",
       "      <td>16520.0</td>\n",
       "      <td>16440.0</td>\n",
       "      <td>27925850.0</td>\n",
       "      <td>13345.065430</td>\n",
       "    </tr>\n",
       "    <tr>\n",
       "      <th>2010-01-06</th>\n",
       "      <td>16820.0</td>\n",
       "      <td>16520.0</td>\n",
       "      <td>16580.0</td>\n",
       "      <td>16820.0</td>\n",
       "      <td>22948850.0</td>\n",
       "      <td>13653.530273</td>\n",
       "    </tr>\n",
       "    <tr>\n",
       "      <th>2010-01-07</th>\n",
       "      <td>16820.0</td>\n",
       "      <td>16260.0</td>\n",
       "      <td>16820.0</td>\n",
       "      <td>16260.0</td>\n",
       "      <td>22107950.0</td>\n",
       "      <td>13198.952148</td>\n",
       "    </tr>\n",
       "    <tr>\n",
       "      <th>2010-01-08</th>\n",
       "      <td>16420.0</td>\n",
       "      <td>16120.0</td>\n",
       "      <td>16400.0</td>\n",
       "      <td>16420.0</td>\n",
       "      <td>14777550.0</td>\n",
       "      <td>13328.830078</td>\n",
       "    </tr>\n",
       "    <tr>\n",
       "      <th>...</th>\n",
       "      <td>...</td>\n",
       "      <td>...</td>\n",
       "      <td>...</td>\n",
       "      <td>...</td>\n",
       "      <td>...</td>\n",
       "      <td>...</td>\n",
       "    </tr>\n",
       "    <tr>\n",
       "      <th>2020-12-23</th>\n",
       "      <td>74000.0</td>\n",
       "      <td>72300.0</td>\n",
       "      <td>72400.0</td>\n",
       "      <td>73900.0</td>\n",
       "      <td>19411326.0</td>\n",
       "      <td>71766.921875</td>\n",
       "    </tr>\n",
       "    <tr>\n",
       "      <th>2020-12-24</th>\n",
       "      <td>78800.0</td>\n",
       "      <td>74000.0</td>\n",
       "      <td>74100.0</td>\n",
       "      <td>77800.0</td>\n",
       "      <td>32502870.0</td>\n",
       "      <td>75554.351562</td>\n",
       "    </tr>\n",
       "    <tr>\n",
       "      <th>2020-12-28</th>\n",
       "      <td>80100.0</td>\n",
       "      <td>78200.0</td>\n",
       "      <td>79000.0</td>\n",
       "      <td>78700.0</td>\n",
       "      <td>40085044.0</td>\n",
       "      <td>76428.375000</td>\n",
       "    </tr>\n",
       "    <tr>\n",
       "      <th>2020-12-29</th>\n",
       "      <td>78900.0</td>\n",
       "      <td>77300.0</td>\n",
       "      <td>78800.0</td>\n",
       "      <td>78300.0</td>\n",
       "      <td>30339449.0</td>\n",
       "      <td>77953.601562</td>\n",
       "    </tr>\n",
       "    <tr>\n",
       "      <th>2020-12-30</th>\n",
       "      <td>81300.0</td>\n",
       "      <td>77300.0</td>\n",
       "      <td>77400.0</td>\n",
       "      <td>81000.0</td>\n",
       "      <td>29417421.0</td>\n",
       "      <td>80641.656250</td>\n",
       "    </tr>\n",
       "  </tbody>\n",
       "</table>\n",
       "<p>2708 rows × 6 columns</p>\n",
       "</div>"
      ],
      "text/plain": [
       "               High      Low     Open    Close      Volume     Adj Close\n",
       "Date                                                                    \n",
       "2010-01-04  16180.0  16000.0  16060.0  16180.0  11950800.0  13134.010742\n",
       "2010-01-05  16580.0  16300.0  16520.0  16440.0  27925850.0  13345.065430\n",
       "2010-01-06  16820.0  16520.0  16580.0  16820.0  22948850.0  13653.530273\n",
       "2010-01-07  16820.0  16260.0  16820.0  16260.0  22107950.0  13198.952148\n",
       "2010-01-08  16420.0  16120.0  16400.0  16420.0  14777550.0  13328.830078\n",
       "...             ...      ...      ...      ...         ...           ...\n",
       "2020-12-23  74000.0  72300.0  72400.0  73900.0  19411326.0  71766.921875\n",
       "2020-12-24  78800.0  74000.0  74100.0  77800.0  32502870.0  75554.351562\n",
       "2020-12-28  80100.0  78200.0  79000.0  78700.0  40085044.0  76428.375000\n",
       "2020-12-29  78900.0  77300.0  78800.0  78300.0  30339449.0  77953.601562\n",
       "2020-12-30  81300.0  77300.0  77400.0  81000.0  29417421.0  80641.656250\n",
       "\n",
       "[2708 rows x 6 columns]"
      ]
     },
     "execution_count": 7,
     "metadata": {},
     "output_type": "execute_result"
    }
   ],
   "source": [
    "# 파일에서 데이터를 읽어온다.\n",
    "cel = pd.read_csv('data/ss_stock.csv')\n",
    "cel.set_index('Date', inplace=True)\n",
    "cel"
   ]
  },
  {
   "cell_type": "code",
   "execution_count": 10,
   "metadata": {},
   "outputs": [
    {
     "data": {
      "text/plain": [
       "Index(['2010-01-04', '2010-01-05', '2010-01-06', '2010-01-07', '2010-01-08',\n",
       "       '2010-01-11', '2010-01-12', '2010-01-13', '2010-01-14', '2010-01-15',\n",
       "       ...\n",
       "       '2020-12-16', '2020-12-17', '2020-12-18', '2020-12-21', '2020-12-22',\n",
       "       '2020-12-23', '2020-12-24', '2020-12-28', '2020-12-29', '2020-12-30'],\n",
       "      dtype='object', name='Date', length=2708)"
      ]
     },
     "execution_count": 10,
     "metadata": {},
     "output_type": "execute_result"
    }
   ],
   "source": [
    "# 인덱스의 데이터 타입을 확인한다.\n",
    "# dtype을 확인한다.\n",
    "cel.index"
   ]
  },
  {
   "cell_type": "code",
   "execution_count": 11,
   "metadata": {},
   "outputs": [
    {
     "name": "stdout",
     "output_type": "stream",
     "text": [
      "<class 'pandas.core.frame.DataFrame'>\n",
      "Index: 2708 entries, 2010-01-04 to 2020-12-30\n",
      "Data columns (total 6 columns):\n",
      " #   Column     Non-Null Count  Dtype  \n",
      "---  ------     --------------  -----  \n",
      " 0   High       2708 non-null   float64\n",
      " 1   Low        2708 non-null   float64\n",
      " 2   Open       2708 non-null   float64\n",
      " 3   Close      2708 non-null   float64\n",
      " 4   Volume     2708 non-null   float64\n",
      " 5   Adj Close  2708 non-null   float64\n",
      "dtypes: float64(6)\n",
      "memory usage: 148.1+ KB\n"
     ]
    }
   ],
   "source": [
    "# 컬럼들의 데이터 타입을 확인한다.\n",
    "cel.info()"
   ]
  },
  {
   "cell_type": "code",
   "execution_count": 13,
   "metadata": {},
   "outputs": [
    {
     "data": {
      "text/plain": [
       "DatetimeIndex(['2010-01-04', '2010-01-05', '2010-01-06', '2010-01-07',\n",
       "               '2010-01-08', '2010-01-11', '2010-01-12', '2010-01-13',\n",
       "               '2010-01-14', '2010-01-15',\n",
       "               ...\n",
       "               '2020-12-16', '2020-12-17', '2020-12-18', '2020-12-21',\n",
       "               '2020-12-22', '2020-12-23', '2020-12-24', '2020-12-28',\n",
       "               '2020-12-29', '2020-12-30'],\n",
       "              dtype='datetime64[ns]', name='Date', length=2708, freq=None)"
      ]
     },
     "execution_count": 13,
     "metadata": {},
     "output_type": "execute_result"
    }
   ],
   "source": [
    "# 인덱스를 날짜 타입으로 변경한다.\n",
    "cel.index = pd.to_datetime(cel.index, format='%Y-%m-%d')\n",
    "cel.index"
   ]
  },
  {
   "cell_type": "markdown",
   "metadata": {},
   "source": [
    "### 주식 데이터 확인"
   ]
  },
  {
   "cell_type": "code",
   "execution_count": 14,
   "metadata": {},
   "outputs": [
    {
     "name": "stdout",
     "output_type": "stream",
     "text": [
      "<class 'pandas.core.frame.DataFrame'>\n",
      "DatetimeIndex: 2708 entries, 2010-01-04 to 2020-12-30\n",
      "Data columns (total 6 columns):\n",
      " #   Column     Non-Null Count  Dtype  \n",
      "---  ------     --------------  -----  \n",
      " 0   High       2708 non-null   float64\n",
      " 1   Low        2708 non-null   float64\n",
      " 2   Open       2708 non-null   float64\n",
      " 3   Close      2708 non-null   float64\n",
      " 4   Volume     2708 non-null   float64\n",
      " 5   Adj Close  2708 non-null   float64\n",
      "dtypes: float64(6)\n",
      "memory usage: 148.1 KB\n"
     ]
    }
   ],
   "source": [
    "# 데이터 프래임의 요약정보 확인\n",
    "cel.info()"
   ]
  },
  {
   "cell_type": "code",
   "execution_count": 15,
   "metadata": {},
   "outputs": [
    {
     "data": {
      "text/plain": [
       "High         0\n",
       "Low          0\n",
       "Open         0\n",
       "Close        0\n",
       "Volume       0\n",
       "Adj Close    0\n",
       "dtype: int64"
      ]
     },
     "execution_count": 15,
     "metadata": {},
     "output_type": "execute_result"
    }
   ],
   "source": [
    "# 결측치 확인\n",
    "cel.isna().sum()"
   ]
  },
  {
   "cell_type": "markdown",
   "metadata": {},
   "source": [
    "### 일별 수익률 계산"
   ]
  },
  {
   "cell_type": "code",
   "execution_count": 18,
   "metadata": {},
   "outputs": [
    {
     "data": {
      "text/plain": [
       "Date\n",
       "2010-01-04         NaN\n",
       "2010-01-05    0.016069\n",
       "2010-01-06    0.023114\n",
       "2010-01-07   -0.033294\n",
       "2010-01-08    0.009840\n",
       "                ...   \n",
       "2020-12-23    0.022130\n",
       "2020-12-24    0.052774\n",
       "2020-12-28    0.011568\n",
       "2020-12-29   -0.005083\n",
       "2020-12-30    0.034483\n",
       "Name: Close, Length: 2708, dtype: float64"
      ]
     },
     "execution_count": 18,
     "metadata": {},
     "output_type": "execute_result"
    }
   ],
   "source": [
    "# 이전 데이터와 값이 얼마나 차이가 나는가....\n",
    "# cel['Close'].diff()\n",
    "\n",
    "# 이전 보다 몇 퍼센트 정도 등락을 했는지..(-1 ~ 0 ~ 1)\n",
    "cel_daily = cel['Close'].pct_change()\n",
    "cel_daily"
   ]
  },
  {
   "cell_type": "code",
   "execution_count": 19,
   "metadata": {},
   "outputs": [
    {
     "data": {
      "text/plain": [
       "1250"
      ]
     },
     "execution_count": 19,
     "metadata": {},
     "output_type": "execute_result"
    }
   ],
   "source": [
    "# 수익률이 0 미만인 데이터의 수를 구한다.\n",
    "# 주가가 떨어진것\n",
    "a1 = cel_daily < 0\n",
    "a1.sum()"
   ]
  },
  {
   "cell_type": "markdown",
   "metadata": {},
   "source": [
    "10년간 주식이 오른 날은 1250일이 된다."
   ]
  },
  {
   "cell_type": "markdown",
   "metadata": {},
   "source": [
    "### 종가에 대한 10%, 90% 위치를 살펴본다."
   ]
  },
  {
   "cell_type": "code",
   "execution_count": 20,
   "metadata": {},
   "outputs": [
    {
     "data": {
      "text/plain": [
       "Date\n",
       "2010-01-04    16180.0\n",
       "2010-01-05    16440.0\n",
       "2010-01-06    16820.0\n",
       "2010-01-07    16260.0\n",
       "2010-01-08    16420.0\n",
       "               ...   \n",
       "2020-12-23    73900.0\n",
       "2020-12-24    77800.0\n",
       "2020-12-28    78700.0\n",
       "2020-12-29    78300.0\n",
       "2020-12-30    81000.0\n",
       "Name: Close, Length: 2708, dtype: float64"
      ]
     },
     "execution_count": 20,
     "metadata": {},
     "output_type": "execute_result"
    }
   ],
   "source": [
    "# 종가만 추출한다.\n",
    "cel_close = cel['Close']\n",
    "cel_close"
   ]
  },
  {
   "cell_type": "code",
   "execution_count": 22,
   "metadata": {},
   "outputs": [
    {
     "data": {
      "text/plain": [
       "count     2708.000000\n",
       "mean     33107.289513\n",
       "std      13460.387890\n",
       "min      13600.000000\n",
       "10%      16860.000000\n",
       "50%      28180.000000\n",
       "90%      51900.000000\n",
       "max      81000.000000\n",
       "Name: Close, dtype: float64"
      ]
     },
     "execution_count": 22,
     "metadata": {},
     "output_type": "execute_result"
    }
   ],
   "source": [
    "# 종가 금액의 요악 통계 정보를 사펴본다.\n",
    "cel_des = cel_close.describe(percentiles=(0.1, 0.9))\n",
    "cel_des"
   ]
  },
  {
   "cell_type": "code",
   "execution_count": 24,
   "metadata": {},
   "outputs": [
    {
     "data": {
      "image/png": "[encoded data removed]",
      "text/plain": [
       "<Figure size 1440x720 with 1 Axes>"
      ]
     },
     "metadata": {
      "needs_background": "light"
     },
     "output_type": "display_data"
    }
   ],
   "source": [
    "# 극단치 확인\n",
    "cel_close.plot.box()\n",
    "plt.show()"
   ]
  },
  {
   "cell_type": "markdown",
   "metadata": {},
   "source": [
    "### 데이터 시각화"
   ]
  },
  {
   "cell_type": "markdown",
   "metadata": {},
   "source": [
    "#### 종가 금액에 대한 그래프 색을 검정색으로 해서 그린다.\n",
    "- x 축은 일자, y 축은 금액으로 처리한다.\n",
    "- 데이터 프레임이나 시리즈의 인덱스가 x 축이 된다."
   ]
  },
  {
   "cell_type": "code",
   "execution_count": 28,
   "metadata": {
    "scrolled": true
   },
   "outputs": [
    {
     "data": {
      "image/png": "[encoded data removed]",
      "text/plain": [
       "<Figure size 1440x720 with 1 Axes>"
      ]
     },
     "metadata": {
      "needs_background": "light"
     },
     "output_type": "display_data"
    }
   ],
   "source": [
    "cel_close.plot(color='black')\n",
    "plt.show()"
   ]
  },
  {
   "cell_type": "markdown",
   "metadata": {},
   "source": [
    "#### 특정 범위를 벗어나는 그래프의 색을 다르게 표시한다.\n",
    "- 하나의 별도 그래프를 그려서 별도의 모양과 색으로 처리한다."
   ]
  },
  {
   "cell_type": "code",
   "execution_count": 29,
   "metadata": {},
   "outputs": [
    {
     "data": {
      "text/plain": [
       "count     2708.000000\n",
       "mean     33107.289513\n",
       "std      13460.387890\n",
       "min      13600.000000\n",
       "10%      16860.000000\n",
       "50%      28180.000000\n",
       "90%      51900.000000\n",
       "max      81000.000000\n",
       "Name: Close, dtype: float64"
      ]
     },
     "execution_count": 29,
     "metadata": {},
     "output_type": "execute_result"
    }
   ],
   "source": [
    "# 요약통계 정보를 가져온다.\n",
    "cel_des = cel_close.describe(percentiles=[0.1, 0.9])\n",
    "cel_des"
   ]
  },
  {
   "cell_type": "code",
   "execution_count": 33,
   "metadata": {},
   "outputs": [
    {
     "data": {
      "text/plain": [
       "Date\n",
       "2010-01-04     True\n",
       "2010-01-05     True\n",
       "2010-01-06     True\n",
       "2010-01-07     True\n",
       "2010-01-08     True\n",
       "              ...  \n",
       "2020-12-23    False\n",
       "2020-12-24    False\n",
       "2020-12-28    False\n",
       "2020-12-29    False\n",
       "2020-12-30    False\n",
       "Name: Close, Length: 2708, dtype: bool"
      ]
     },
     "execution_count": 33,
     "metadata": {},
     "output_type": "execute_result"
    }
   ],
   "source": [
    "# 10% 이하의 값들\n",
    "# 요약 통계 정보에서 10% 위치 값을 가져온다.\n",
    "a1 = cel_des.loc['10%']\n",
    "# 10% 이하의 값들에 해당하는 것은 True로 되어 있는 결과를 가져온다.\n",
    "a2 = cel_close <= a1\n",
    "a2"
   ]
  },
  {
   "cell_type": "code",
   "execution_count": 34,
   "metadata": {},
   "outputs": [
    {
     "data": {
      "text/plain": [
       "Date\n",
       "2010-01-04    False\n",
       "2010-01-05    False\n",
       "2010-01-06    False\n",
       "2010-01-07    False\n",
       "2010-01-08    False\n",
       "              ...  \n",
       "2020-12-23     True\n",
       "2020-12-24     True\n",
       "2020-12-28     True\n",
       "2020-12-29     True\n",
       "2020-12-30     True\n",
       "Name: Close, Length: 2708, dtype: bool"
      ]
     },
     "execution_count": 34,
     "metadata": {},
     "output_type": "execute_result"
    }
   ],
   "source": [
    "# 90% 이상의 값들\n",
    "# 요약 통계 정보에서 90% 위치 값을 가져온다.\n",
    "a3 = cel_des.loc['90%']\n",
    "# 90% 이상의 값들에 해당하는 것은 True로 되어 있는 결과를 가져온다.\n",
    "a4 = cel_close >= a3\n",
    "a4"
   ]
  },
  {
   "cell_type": "code",
   "execution_count": 37,
   "metadata": {},
   "outputs": [
    {
     "data": {
      "text/plain": [
       "Date\n",
       "2010-01-04    True\n",
       "2010-01-05    True\n",
       "2010-01-06    True\n",
       "2010-01-07    True\n",
       "2010-01-08    True\n",
       "              ... \n",
       "2020-12-23    True\n",
       "2020-12-24    True\n",
       "2020-12-28    True\n",
       "2020-12-29    True\n",
       "2020-12-30    True\n",
       "Name: Close, Length: 2708, dtype: bool"
      ]
     },
     "execution_count": 37,
     "metadata": {},
     "output_type": "execute_result"
    }
   ],
   "source": [
    "# 위의 두 결과를 합친다. (or 연산을 한다.)\n",
    "# or : |, 둘 중 하나라도 True면 결과를 True가 된다.\n",
    "# and : &, 둘 중 하나라도 False면 결과를 False가 된다.\n",
    "a5 = a2 | a4\n",
    "a5"
   ]
  },
  {
   "cell_type": "code",
   "execution_count": 38,
   "metadata": {},
   "outputs": [
    {
     "data": {
      "text/plain": [
       "Date\n",
       "2010-01-04    16180.0\n",
       "2010-01-05    16440.0\n",
       "2010-01-06    16820.0\n",
       "2010-01-07    16260.0\n",
       "2010-01-08    16420.0\n",
       "               ...   \n",
       "2020-12-23    73900.0\n",
       "2020-12-24    77800.0\n",
       "2020-12-28    78700.0\n",
       "2020-12-29    78300.0\n",
       "2020-12-30    81000.0\n",
       "Name: Close, Length: 545, dtype: float64"
      ]
     },
     "execution_count": 38,
     "metadata": {},
     "output_type": "execute_result"
    }
   ],
   "source": [
    "# 10% 이하, 90% 이상인 것들을 가져온다.\n",
    "cel_top_bottom = cel_close[a5]\n",
    "cel_top_bottom"
   ]
  },
  {
   "cell_type": "code",
   "execution_count": 47,
   "metadata": {},
   "outputs": [
    {
     "data": {
      "image/png": "[encoded data removed]",
      "text/plain": [
       "<Figure size 1440x720 with 1 Axes>"
      ]
     },
     "metadata": {
      "needs_background": "light"
     },
     "output_type": "display_data"
    }
   ],
   "source": [
    "# 시각화\n",
    "# style : 선의 모양. ' ' 를 주면 선의 모양은 빈칸이 된다.\n",
    "# marker : 값 위치에 표시할 모양, o는 점\n",
    "# ms : 마커의 크기\n",
    "# color : 색상\n",
    "cel_top_bottom.plot(style=' ', marker='o', ms=4, color='darkgray')\n",
    "plt.show()"
   ]
  },
  {
   "cell_type": "markdown",
   "metadata": {},
   "source": [
    "#### 그래프 내에 강조 선 그리기\n",
    "- 상위(90%), 하위(10%) 선을 그린다."
   ]
  },
  {
   "cell_type": "code",
   "execution_count": 48,
   "metadata": {},
   "outputs": [
    {
     "data": {
      "text/plain": [
       "Date\n",
       "2010-01-04    True\n",
       "2010-01-05    True\n",
       "2010-01-06    True\n",
       "2010-01-07    True\n",
       "2010-01-08    True\n",
       "              ... \n",
       "2020-12-23    True\n",
       "2020-12-24    True\n",
       "2020-12-28    True\n",
       "2020-12-29    True\n",
       "2020-12-30    True\n",
       "Name: Close, Length: 2708, dtype: bool"
      ]
     },
     "execution_count": 48,
     "metadata": {},
     "output_type": "execute_result"
    }
   ],
   "source": [
    "# 10% 이하의 값들\n",
    "a1 = cel_close <= cel_des.loc['10%']\n",
    "# 90% 이상의 값들\n",
    "a2 = cel_close >= cel_des.loc['90%']\n",
    "\n",
    "criteria = a1 | a2\n",
    "criteria"
   ]
  },
  {
   "cell_type": "code",
   "execution_count": 54,
   "metadata": {},
   "outputs": [
    {
     "data": {
      "image/png": "[encoded data removed]",
      "text/plain": [
       "<Figure size 1440x720 with 1 Axes>"
      ]
     },
     "metadata": {
      "needs_background": "light"
     },
     "output_type": "display_data"
    }
   ],
   "source": [
    "# 선을 그리기 위해 y 축을 10%, 90%의 위치로 지정하고 x 축은 시작점과\n",
    "# 종료점으로 셋팅한다.\n",
    "# 10% 위치값\n",
    "value_10 = cel_des.loc['10%']\n",
    "# 90% 위치값\n",
    "value_90 = cel_des.loc['90%']\n",
    "\n",
    "# 제일 작은 날짜값\n",
    "index_min = criteria.index[0]\n",
    "# 제일 큰 날짜값\n",
    "index_max = criteria.index[-1]\n",
    "\n",
    "plt.hlines(y = [value_10, value_90], xmin=index_min, xmax=index_max, \n",
    "          color='red')\n",
    "plt.show()"
   ]
  },
  {
   "cell_type": "markdown",
   "metadata": {},
   "source": [
    "#### 지금까지 살펴본 3가지 그래프를 한번에 그린다."
   ]
  },
  {
   "cell_type": "code",
   "execution_count": 60,
   "metadata": {},
   "outputs": [
    {
     "data": {
      "image/png": "[encoded data removed]",
      "text/plain": [
       "<Figure size 1440x720 with 1 Axes>"
      ]
     },
     "metadata": {
      "needs_background": "light"
     },
     "output_type": "display_data"
    }
   ],
   "source": [
    "# 종가 전체 그래프\n",
    "cel_close.plot(color='black')\n",
    "\n",
    "# 상위 90% 이상, 하위 10% 이하에 점을 찍는다.\n",
    "cel_top_bottom.plot(style=' ', marker='o', ms=4, color='blue')\n",
    "\n",
    "# 상위 90% 위치, 하위 10% 위치에 강조선을 긋는다.\n",
    "plt.hlines(y = [value_10, value_90], xmin=index_min, xmax=index_max, \n",
    "          color='red')\n",
    "plt.show()"
   ]
  },
  {
   "cell_type": "markdown",
   "metadata": {},
   "source": [
    "### 수익률 비교"
   ]
  },
  {
   "cell_type": "code",
   "execution_count": 61,
   "metadata": {},
   "outputs": [
    {
     "data": {
      "text/plain": [
       "Date\n",
       "2010-01-04    16180.0\n",
       "2010-01-05    16440.0\n",
       "2010-01-06    16820.0\n",
       "2010-01-07    16260.0\n",
       "2010-01-08    16420.0\n",
       "Name: Close, dtype: float64"
      ]
     },
     "execution_count": 61,
     "metadata": {},
     "output_type": "execute_result"
    }
   ],
   "source": [
    "cel['Close'].head()"
   ]
  },
  {
   "cell_type": "code",
   "execution_count": 63,
   "metadata": {},
   "outputs": [
    {
     "data": {
      "text/plain": [
       "0.016069221260815822"
      ]
     },
     "execution_count": 63,
     "metadata": {},
     "output_type": "execute_result"
    }
   ],
   "source": [
    "(cel['Close'][1] - cel['Close'][0]) / cel['Close'][0]"
   ]
  },
  {
   "cell_type": "code",
   "execution_count": 65,
   "metadata": {},
   "outputs": [
    {
     "data": {
      "text/plain": [
       "Date\n",
       "2010-01-04         NaN\n",
       "2010-01-05    0.016069\n",
       "2010-01-06    0.023114\n",
       "2010-01-07   -0.033294\n",
       "2010-01-08    0.009840\n",
       "                ...   \n",
       "2020-12-23    0.022130\n",
       "2020-12-24    0.052774\n",
       "2020-12-28    0.011568\n",
       "2020-12-29   -0.005083\n",
       "2020-12-30    0.034483\n",
       "Name: Close, Length: 2708, dtype: float64"
      ]
     },
     "execution_count": 65,
     "metadata": {},
     "output_type": "execute_result"
    }
   ],
   "source": [
    "# pct_change : 현재 원소와 이전 원소간의 % 변화율 계산\n",
    "cel_pct_change = cel['Close'].pct_change()\n",
    "cel_pct_change"
   ]
  },
  {
   "cell_type": "markdown",
   "metadata": {},
   "source": [
    "### 결측치 처리"
   ]
  },
  {
   "cell_type": "code",
   "execution_count": 66,
   "metadata": {},
   "outputs": [
    {
     "data": {
      "text/plain": [
       "1"
      ]
     },
     "execution_count": 66,
     "metadata": {},
     "output_type": "execute_result"
    }
   ],
   "source": [
    "# 첫 번째 날은 이전 날이 없기 때문에 결과가 결측치로 되어 있다.\n",
    "cel_pct_change.isna().sum()"
   ]
  },
  {
   "cell_type": "code",
   "execution_count": 68,
   "metadata": {},
   "outputs": [
    {
     "data": {
      "text/plain": [
       "0"
      ]
     },
     "execution_count": 68,
     "metadata": {},
     "output_type": "execute_result"
    }
   ],
   "source": [
    "# 제거한다.\n",
    "cel_pct_change.dropna(inplace=True)\n",
    "cel_pct_change.isna().sum()"
   ]
  },
  {
   "cell_type": "markdown",
   "metadata": {},
   "source": [
    "### 수익률에 대한 히스토그램\n",
    "- x 축 : 지정된 값의 최소와 최대값으로 설정된다.\n",
    "- y 축 : 각 값 종류별로 개수로 지정된다.\n",
    "- 중앙값을 기준으로 좌측(작은값)과 우측(큰값)의 개수가 어느정도 되는지 비교한다."
   ]
  },
  {
   "cell_type": "code",
   "execution_count": 74,
   "metadata": {},
   "outputs": [
    {
     "data": {
      "image/png": "[encoded data removed]",
      "text/plain": [
       "<Figure size 1440x720 with 1 Axes>"
      ]
     },
     "metadata": {
      "needs_background": "light"
     },
     "output_type": "display_data"
    }
   ],
   "source": [
    "# bins : 히스토그램에서 사용하는 막대의 개수\n",
    "cel_pct_change.hist(bins=30)\n",
    "plt.show()"
   ]
  },
  {
   "cell_type": "markdown",
   "metadata": {},
   "source": [
    "### 통계량\n",
    "\n",
    "#### 첨도(Kurtosis)\n",
    "- 첨도는 분포의 꼬리부분의 길이와 중와 부분의 표족함에 대한 정보를 제공하는 통계량\n",
    "- 첨도가 0보다 크면 긴 꼬리를 갖고 분포가 중앙 부분에 덜 분포 되어 있는것으로 해석한다"
   ]
  },
  {
   "cell_type": "code",
   "execution_count": 75,
   "metadata": {},
   "outputs": [
    {
     "data": {
      "text/plain": [
       "1.5544292402894202"
      ]
     },
     "execution_count": 75,
     "metadata": {},
     "output_type": "execute_result"
    }
   ],
   "source": [
    "cel_daily.kurt()"
   ]
  },
  {
   "cell_type": "markdown",
   "metadata": {},
   "source": [
    "#### 왜도\n",
    "- 분포의 비대칭 정도를 나타내는 값\n",
    "- 분포가 완전 대칭인 경우에는 왜도가 0이다.\n",
    "- 왼쪽으로 긴 꼬리를 가지면 음수이고, 오른쪽으로 긴 꼬리를 가지면 양수\n",
    "- 비대칭 정도가 심할 수록 왜도의 절대값이 증가한다."
   ]
  },
  {
   "cell_type": "code",
   "execution_count": 76,
   "metadata": {},
   "outputs": [
    {
     "data": {
      "text/plain": [
       "0.1538558051136132"
      ]
     },
     "execution_count": 76,
     "metadata": {},
     "output_type": "execute_result"
    }
   ],
   "source": [
    "cel_daily.skew()"
   ]
  },
  {
   "cell_type": "code",
   "execution_count": null,
   "metadata": {},
   "outputs": [],
   "source": []
  }
 ],
 "metadata": {
  "kernelspec": {
   "display_name": "Python 3",
   "language": "python",
   "name": "python3"
  },
  "language_info": {
   "codemirror_mode": {
    "name": "ipython",
    "version": 3
   },
   "file_extension": ".py",
   "mimetype": "text/x-python",
   "name": "python",
   "nbconvert_exporter": "python",
   "pygments_lexer": "ipython3",
   "version": "3.8.5"
  }
 },
 "nbformat": 4,
 "nbformat_minor": 4
}
