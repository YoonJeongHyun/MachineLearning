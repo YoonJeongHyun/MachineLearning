{
 "cells": [
  {
   "cell_type": "code",
   "execution_count": 2,
   "metadata": {},
   "outputs": [],
   "source": [
    "import pandas as pd \n",
    "import numpy as np\n",
    "import datetime"
   ]
  },
  {
   "cell_type": "code",
   "execution_count": 10,
   "metadata": {},
   "outputs": [],
   "source": [
    "now = datetime.datetime.now()"
   ]
  },
  {
   "cell_type": "code",
   "execution_count": 11,
   "metadata": {},
   "outputs": [
    {
     "name": "stdout",
     "output_type": "stream",
     "text": [
      "2021\n",
      "5\n",
      "7\n",
      "16\n",
      "37\n",
      "9\n"
     ]
    }
   ],
   "source": [
    "# 파이썬은 month가 1부터 시작하는데 다른 프로그래밍 언어는 0부터 시작한다.\n",
    "print(now.year)\n",
    "print(now.month)\n",
    "print(now.day)\n",
    "print(now.hour)\n",
    "print(now.minute)\n",
    "print(now.second)\n"
   ]
  },
  {
   "cell_type": "code",
   "execution_count": 3,
   "metadata": {},
   "outputs": [
    {
     "name": "stdout",
     "output_type": "stream",
     "text": [
      "2018-09-29\n"
     ]
    }
   ],
   "source": [
    "# 날짜를 지정한다.\n",
    "date = datetime.date(2018, 9, 29)\n",
    "print(date)"
   ]
  },
  {
   "cell_type": "code",
   "execution_count": 7,
   "metadata": {},
   "outputs": [
    {
     "name": "stdout",
     "output_type": "stream",
     "text": [
      "2018\n",
      "9\n",
      "29\n"
     ]
    }
   ],
   "source": [
    "print(date.year)\n",
    "print(date.month)\n",
    "print(date.day)"
   ]
  },
  {
   "cell_type": "code",
   "execution_count": 13,
   "metadata": {},
   "outputs": [
    {
     "name": "stdout",
     "output_type": "stream",
     "text": [
      "12:30:19.463198\n"
     ]
    }
   ],
   "source": [
    "# 시간을 지정한다.\n",
    "# 시, 분, 초, ms\n",
    "time = datetime.time(12, 30, 19, 463198)\n",
    "print(time)"
   ]
  },
  {
   "cell_type": "code",
   "execution_count": 14,
   "metadata": {},
   "outputs": [
    {
     "name": "stdout",
     "output_type": "stream",
     "text": [
      "12\n",
      "30\n",
      "19\n",
      "463198\n"
     ]
    }
   ],
   "source": [
    "print(time.hour)\n",
    "print(time.minute)\n",
    "print(time.second)\n",
    "print(time.microsecond)\n"
   ]
  },
  {
   "cell_type": "code",
   "execution_count": 15,
   "metadata": {},
   "outputs": [
    {
     "name": "stdout",
     "output_type": "stream",
     "text": [
      "2018-09-29 12:30:19.463198\n"
     ]
    }
   ],
   "source": [
    "# 날짜와 시간을 지정한다.\n",
    "dt = datetime.datetime(2018, 9, 29, 12, 30, 19, 463198)\n",
    "print(dt)"
   ]
  },
  {
   "cell_type": "code",
   "execution_count": 17,
   "metadata": {},
   "outputs": [
    {
     "data": {
      "text/plain": [
       "1620374417.232009"
      ]
     },
     "execution_count": 17,
     "metadata": {},
     "output_type": "execute_result"
    }
   ],
   "source": [
    "import time\n",
    "\n",
    "# 기준시 값을 출력해본다.\n",
    "time.gmtime(0)\n",
    "time.time()"
   ]
  },
  {
   "cell_type": "markdown",
   "metadata": {},
   "source": [
    "### 데이터 프레임의 시간 관련 기능\n",
    "- 기준시 : 1970-01-01 0:0:0.0 를 0으로 정한 값을 관리한다.\n",
    "- 유닉스 탄생 시간\n"
   ]
  },
  {
   "cell_type": "code",
   "execution_count": 18,
   "metadata": {},
   "outputs": [
    {
     "data": {
      "text/plain": [
       "Timestamp('1970-01-01 00:00:00')"
      ]
     },
     "execution_count": 18,
     "metadata": {},
     "output_type": "execute_result"
    }
   ],
   "source": [
    "pd.Timestamp(0)"
   ]
  },
  {
   "cell_type": "code",
   "execution_count": 19,
   "metadata": {},
   "outputs": [
    {
     "data": {
      "text/plain": [
       "0   1970-01-01\n",
       "dtype: datetime64[ns]"
      ]
     },
     "execution_count": 19,
     "metadata": {},
     "output_type": "execute_result"
    }
   ],
   "source": [
    "# 날짜가 담겨있는 Series를 생성한다.\n",
    "a1 = pd.Timestamp(0)\n",
    "s1 = pd.Series(a1)\n",
    "s1\n"
   ]
  },
  {
   "cell_type": "code",
   "execution_count": 20,
   "metadata": {},
   "outputs": [
    {
     "data": {
      "text/plain": [
       "Timestamp('1970-01-01 00:00:00.000017800')"
      ]
     },
     "execution_count": 20,
     "metadata": {},
     "output_type": "execute_result"
    }
   ],
   "source": [
    "# 나노 세컨드 단위 셋팅\n",
    "# 초 > 밀리 > 마이크로 > 나노\n",
    "pd.Timestamp(17800)"
   ]
  },
  {
   "cell_type": "code",
   "execution_count": 21,
   "metadata": {},
   "outputs": [
    {
     "data": {
      "text/plain": [
       "Timestamp('1970-01-01 00:00:00.017800')"
      ]
     },
     "execution_count": 21,
     "metadata": {},
     "output_type": "execute_result"
    }
   ],
   "source": [
    "# 마이크로sec\n",
    "pd.Timestamp(17800, unit=\"us\")  # 마이크로 기호를 따라서 us로 쓴다."
   ]
  },
  {
   "cell_type": "code",
   "execution_count": 22,
   "metadata": {},
   "outputs": [
    {
     "data": {
      "text/plain": [
       "Timestamp('1970-01-01 00:00:17.800000')"
      ]
     },
     "execution_count": 22,
     "metadata": {},
     "output_type": "execute_result"
    }
   ],
   "source": [
    "# 밀리 sec\n",
    "pd.Timestamp(17800, unit=\"ms\")"
   ]
  },
  {
   "cell_type": "code",
   "execution_count": 25,
   "metadata": {},
   "outputs": [
    {
     "data": {
      "text/plain": [
       "Timestamp('2018-09-26 00:00:00')"
      ]
     },
     "execution_count": 25,
     "metadata": {},
     "output_type": "execute_result"
    }
   ],
   "source": [
    "# 초 : s, 분 : m, 시 : h, 날짜  : D,  월 :  M, 년 : Y\n",
    "pd.Timestamp(17800, unit=\"D\")"
   ]
  },
  {
   "cell_type": "code",
   "execution_count": 27,
   "metadata": {},
   "outputs": [
    {
     "data": {
      "text/plain": [
       "Timestamp('2021-05-07 17:07:30.000100')"
      ]
     },
     "execution_count": 27,
     "metadata": {},
     "output_type": "execute_result"
    }
   ],
   "source": [
    "# 날짜를 직접 지정한다.\n",
    "pd.Timestamp(year=2021, month=5, day=7, hour=17, minute=7, second=30, microsecond=100)\n"
   ]
  },
  {
   "cell_type": "code",
   "execution_count": 28,
   "metadata": {},
   "outputs": [
    {
     "data": {
      "text/plain": [
       "0       10\n",
       "1      100\n",
       "2     1000\n",
       "3    10000\n",
       "dtype: int64"
      ]
     },
     "execution_count": 28,
     "metadata": {},
     "output_type": "execute_result"
    }
   ],
   "source": [
    "# Series에 저장되어 있는 정수값들을 날짜로 변환한다.\n",
    "s1 = pd.Series([10, 100, 1000, 10000])\n",
    "s1"
   ]
  },
  {
   "cell_type": "code",
   "execution_count": 29,
   "metadata": {},
   "outputs": [
    {
     "data": {
      "text/plain": [
       "0   1970-01-11\n",
       "1   1970-04-11\n",
       "2   1972-09-27\n",
       "3   1997-05-19\n",
       "dtype: datetime64[ns]"
      ]
     },
     "execution_count": 29,
     "metadata": {},
     "output_type": "execute_result"
    }
   ],
   "source": [
    "pd.to_datetime(s1, unit=\"D\")\n"
   ]
  },
  {
   "cell_type": "code",
   "execution_count": 33,
   "metadata": {},
   "outputs": [
    {
     "data": {
      "text/plain": [
       "0   2015-02-04\n",
       "1   2016-03-05\n",
       "dtype: datetime64[ns]"
      ]
     },
     "execution_count": 33,
     "metadata": {},
     "output_type": "execute_result"
    }
   ],
   "source": [
    "# 데이터 프레임을 날짜로 변환한다.\n",
    "# 컬럼 이름이 중요하다.\n",
    "df = pd.DataFrame({\n",
    "    \"year\":[2015, 2016],\n",
    "    \"month\":[2, 3], \n",
    "    \"day\":[4,5], \n",
    "})\n",
    "\n",
    "pd.to_datetime(df)"
   ]
  },
  {
   "cell_type": "code",
   "execution_count": 37,
   "metadata": {},
   "outputs": [
    {
     "data": {
      "text/plain": [
       "0    2018-01-01\n",
       "1    01-01-2019\n",
       "dtype: object"
      ]
     },
     "metadata": {},
     "output_type": "display_data"
    },
    {
     "data": {
      "text/plain": [
       "0   2018-01-01\n",
       "1   2019-01-01\n",
       "dtype: datetime64[ns]"
      ]
     },
     "metadata": {},
     "output_type": "display_data"
    }
   ],
   "source": [
    "# 문자열로 되어 있는 값을 날짜로 변환한다.\n",
    "# 년-월-일 로 인식한다.\n",
    "# s1 = pd.Series([\"2018-01-01\", \"2019-01-01\"])\n",
    "# 월-일-년로 인식한다.\n",
    "# s1 = pd.Series([\"01-01-2018\", \"01-01-2019\"])\n",
    "# # 오류\n",
    "# 년도가 제일 앞에 있거나 제일 뒤에 있어야 한다.\n",
    "# s1 = pd.Series([\"01-2018-01\", \"01-2019-01\"])\n",
    "\n",
    "s1 = pd.Series([\"2018-01-01\", \"01-01-2019\"]) \n",
    "\n",
    "display(s1)\n",
    "\n",
    "display(pd.to_datetime(s1))"
   ]
  },
  {
   "cell_type": "code",
   "execution_count": 39,
   "metadata": {},
   "outputs": [
    {
     "data": {
      "text/plain": [
       "0    02-2018-01\n",
       "1    02-2018-01\n",
       "2    02-2019-03\n",
       "dtype: object"
      ]
     },
     "metadata": {},
     "output_type": "display_data"
    },
    {
     "data": {
      "text/plain": [
       "0   2018-02-01\n",
       "1   2018-02-01\n",
       "2   2019-02-03\n",
       "dtype: datetime64[ns]"
      ]
     },
     "execution_count": 39,
     "metadata": {},
     "output_type": "execute_result"
    }
   ],
   "source": [
    "# 양식을 이용해 지정할 수 있다.\n",
    "# https://docs.python.org/3/library/datetime.html#strftime-and-strptime-behavior\n",
    "s1 = pd.Series([\"02-2018-01\", \"02-2018-01\", \"02-2019-03\"])\n",
    "display(s1)\n",
    "\n",
    "pd.to_datetime(s1, format=\"%m-%Y-%d\")"
   ]
  },
  {
   "cell_type": "code",
   "execution_count": null,
   "metadata": {},
   "outputs": [],
   "source": []
  }
 ],
 "metadata": {
  "kernelspec": {
   "display_name": "Python 3",
   "language": "python",
   "name": "python3"
  },
  "language_info": {
   "codemirror_mode": {
    "name": "ipython",
    "version": 3
   },
   "file_extension": ".py",
   "mimetype": "text/x-python",
   "name": "python",
   "nbconvert_exporter": "python",
   "pygments_lexer": "ipython3",
   "version": "3.8.5"
  }
 },
 "nbformat": 4,
 "nbformat_minor": 4
}
