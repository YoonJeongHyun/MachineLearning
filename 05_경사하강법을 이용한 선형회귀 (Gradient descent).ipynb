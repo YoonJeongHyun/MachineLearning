{
 "cells": [
  {
   "cell_type": "markdown",
   "metadata": {},
   "source": [
    "### 경사하강법\n",
    "- 앞서 살펴본 오차 계산법을 통하면 오차를 구할 수 있다. \n",
    "- 이 오차는 최적의 기울기보다 기울기가 크거나 작으면 오차는 커진다.\n",
    "- 최적의 y절편보다 y절편이 크거나 작으면 오차는 커진다.\n",
    " -이에 오차와 기울기, 오차와 y절편간의 관계는 2차함수 관계가 된다.\n",
    "- 이를 이용해 2차 함수를 통한 오차 그래프를 만들고 그래프의 접선의 기울기를 구해 접선의 기울기가 최소가 되는 지점을 찾는다.\n",
    "- 이 때 접선의 기울기를 구하기 위해 미분을 사용한다. \n",
    "![경사하강법](notebook_image/4.png)"
   ]
  },
  {
   "cell_type": "code",
   "execution_count": 1,
   "metadata": {},
   "outputs": [
    {
     "name": "stdout",
     "output_type": "stream",
     "text": [
      "pygame 2.0.1 (SDL 2.0.14, Python 3.8.5)\n",
      "Hello from the pygame community. https://www.pygame.org/contribute.html\n"
     ]
    }
   ],
   "source": [
    "# 기본\n",
    "import pandas as pd\n",
    "import numpy as np\n",
    "import matplotlib.pyplot as plt\n",
    "import seaborn as sns\n",
    "\n",
    "# 경고 뜨지 않게 설정\n",
    "import warnings\n",
    "warnings.filterwarnings('ignore')\n",
    "\n",
    "# 그래프 설정\n",
    "plt.rcParams['font.family'] = 'Malgun Gothic'\n",
    "# plt.rcParams['font.family'] = 'AppleGothic'\n",
    "plt.rcParams['font.size'] = 16\n",
    "plt.rcParams['figure.figsize'] = 20, 10\n",
    "plt.rcParams['axes.unicode_minus'] = False\n",
    "\n",
    "# 데이터 전처리 알고리즘\n",
    "from sklearn.preprocessing import LabelEncoder\n",
    "from sklearn.preprocessing import StandardScaler\n",
    "\n",
    "# 학습용과 검증용으로 나누는 함수\n",
    "from sklearn.model_selection import train_test_split\n",
    "\n",
    "# 교차 검증\n",
    "# 지표를 하나만 설정할 경우\n",
    "from sklearn.model_selection import cross_val_score\n",
    "# 지표를 하나 이상 설정할 경우\n",
    "from sklearn.model_selection import cross_validate\n",
    "from sklearn.model_selection import KFold\n",
    "from sklearn.model_selection import StratifiedKFold\n",
    "\n",
    "# 모델의 최적의 하이퍼파라미터를 찾기 위한 도구\n",
    "from sklearn.model_selection import GridSearchCV\n",
    "\n",
    "# 평가함수\n",
    "# 분류용\n",
    "from sklearn.metrics import accuracy_score\n",
    "from sklearn.metrics import precision_score\n",
    "from sklearn.metrics import recall_score\n",
    "from sklearn.metrics import f1_score\n",
    "from sklearn.metrics import roc_auc_score\n",
    "\n",
    "# 회귀용\n",
    "from sklearn.metrics import r2_score\n",
    "from sklearn.metrics import mean_squared_error\n",
    "\n",
    "# 머신러닝 알고리즘 - 분류\n",
    "from sklearn.neighbors import KNeighborsClassifier\n",
    "from sklearn.linear_model import LogisticRegression\n",
    "from sklearn.svm import SVC\n",
    "from sklearn.tree import DecisionTreeClassifier\n",
    "from sklearn.ensemble import RandomForestClassifier\n",
    "from sklearn.ensemble import AdaBoostClassifier\n",
    "from sklearn.ensemble import GradientBoostingClassifier\n",
    "from lightgbm import LGBMClassifier\n",
    "from xgboost import XGBClassifier\n",
    "from sklearn.ensemble import VotingClassifier\n",
    "\n",
    "# 머신러닝 알고리즘 - 회귀\n",
    "from sklearn.neighbors import KNeighborsRegressor\n",
    "from sklearn.linear_model import LinearRegression\n",
    "from sklearn.linear_model import Ridge\n",
    "from sklearn.linear_model import Lasso\n",
    "from sklearn.linear_model import ElasticNet\n",
    "from sklearn.svm import SVR\n",
    "from sklearn.tree import DecisionTreeRegressor\n",
    "from sklearn.ensemble import RandomForestRegressor\n",
    "from sklearn.ensemble import AdaBoostRegressor\n",
    "from sklearn.ensemble import GradientBoostingRegressor\n",
    "from lightgbm import LGBMRegressor\n",
    "from xgboost import XGBRegressor\n",
    "from sklearn.ensemble import VotingRegressor\n",
    "\n",
    "# 차원축소\n",
    "from sklearn.decomposition import PCA\n",
    "from sklearn.discriminant_analysis import LinearDiscriminantAnalysis\n",
    "\n",
    "# 군집화\n",
    "from sklearn.cluster import KMeans\n",
    "from sklearn.cluster import MeanShift\n",
    "from sklearn.cluster import estimate_bandwidth\n",
    "\n",
    "\n",
    "\n",
    "# ARIMA (시계열 예측)\n",
    "from statsmodels.tsa.arima_model import ARIMA\n",
    "import statsmodels.api as sm\n",
    "\n",
    "\n",
    "# 시간 측정을 위한 시간 모듈\n",
    "import datetime\n",
    "\n",
    "# 주식정보\n",
    "from pandas_datareader import data\n",
    "\n",
    "# 형태소 벡터를 생성하기 위한 라이브러리\n",
    "from sklearn.feature_extraction.text import CountVectorizer\n",
    "# 형태소 벡터를 학습 벡터로 변환한다.\n",
    "from sklearn.feature_extraction.text import TfidfTransformer\n",
    "\n",
    "\n",
    "# 데이터 수집\n",
    "import requests\n",
    "from bs4 import BeautifulSoup\n",
    "import re\n",
    "import time\n",
    "import os\n",
    "import json\n",
    "\n",
    "# 한국어 형태소 분석\n",
    "from konlpy.tag import Okt, Hannanum, Kkma, Mecab, Komoran\n",
    "\n",
    "# 워드 클라우드를 위한 라이브러리\n",
    "from collections import Counter\n",
    "import pytagcloud\n",
    "from IPython.display import Image\n",
    "\n",
    "# 저장\n",
    "import pickle\n",
    "\n",
    "# 딥러닝\n",
    "import tensorflow as tf\n",
    "\n",
    "# 딥러닝 모델 구조를 정의하는 것\n",
    "from tensorflow.keras.models import Sequential\n",
    "# 층구조를 정의하는 것\n",
    "from tensorflow.keras.layers import Dense\n",
    "# 활성화 함수를 정의하는 것\n",
    "from tensorflow.keras.layers import Activation\n",
    "\n",
    "# 현재 프로젝트를 gpu에 할당한다.\n",
    "# 컴퓨터의 GPU는 메모리를 가지고 있다. \n",
    "gpus = tf.config.experimental.list_physical_devices(\"GPU\")\n",
    "# gpu가 있다면\n",
    "if len(gpus) >0 :\n",
    "    try :\n",
    "        for gpu in gpus:\n",
    "            tf.config.experimental.set_memory_growth(gpu, True)\n",
    "    except RuntimeError as e :\n",
    "        print(e)"
   ]
  },
  {
   "cell_type": "code",
   "execution_count": 2,
   "metadata": {},
   "outputs": [],
   "source": [
    "# 입력과 결과\n",
    "공부한시간 = [2, 4, 6, 8]\n",
    "성적 = [81, 93, 91, 97]"
   ]
  },
  {
   "cell_type": "code",
   "execution_count": 3,
   "metadata": {},
   "outputs": [
    {
     "name": "stdout",
     "output_type": "stream",
     "text": [
      "[2 4 6 8]\n",
      "[81 93 91 97]\n"
     ]
    }
   ],
   "source": [
    "# 계산의 편리성을 위해 ndarray를 생성한다.\n",
    "x_data = np.array(공부한시간)\n",
    "y_data = np.array(성적)\n",
    "\n",
    "print(x_data)\n",
    "print(y_data)"
   ]
  },
  {
   "cell_type": "code",
   "execution_count": 4,
   "metadata": {},
   "outputs": [],
   "source": [
    "# 임의의 기울기와 절편\n",
    "# 실제로도 0으로 시작한다.\n",
    "기울기 = 0\n",
    "절편 = 0"
   ]
  },
  {
   "cell_type": "code",
   "execution_count": 5,
   "metadata": {},
   "outputs": [],
   "source": [
    "# 학습률 정하기\n",
    "learning_rate = 0.03"
   ]
  },
  {
   "cell_type": "code",
   "execution_count": 6,
   "metadata": {},
   "outputs": [],
   "source": [
    "# 학습 횟수\n",
    "epochs = 5000"
   ]
  },
  {
   "cell_type": "code",
   "execution_count": 7,
   "metadata": {},
   "outputs": [
    {
     "name": "stdout",
     "output_type": "stream",
     "text": [
      "epoch : 0, 기울기 : 27.84, 절편 : 5.43\n",
      "epoch : 100, 기울기 : 7.073858435872394, 절편 : 50.51166161138297\n",
      "epoch : 200, 기울기 : 4.095999380762421, 절편 : 68.28224379060177\n",
      "epoch : 300, 기울기 : 2.9756829100119027, 절편 : 74.96781336233505\n",
      "epoch : 400, 기울기 : 2.5542024233262106, 절편 : 77.48302865233052\n",
      "epoch : 500, 기울기 : 2.3956349066513707, 절편 : 78.42929177728175\n",
      "epoch : 600, 기울기 : 2.3359793398132864, 절편 : 78.78529068727728\n",
      "epoch : 700, 기울기 : 2.313535987420573, 절편 : 78.91922301600925\n",
      "epoch : 800, 기울기 : 2.3050924490666174, 절편 : 78.96961044185792\n",
      "epoch : 900, 기울기 : 2.3019158585694823, 절편 : 78.98856697541248\n",
      "epoch : 1000, 기울기 : 2.3007207758016315, 절편 : 78.99569871827002\n",
      "epoch : 1100, 기울기 : 2.300271167070735, 절편 : 78.99838179089187\n",
      "epoch : 1200, 기울기 : 2.3001020172709508, 절편 : 78.9993912045567\n",
      "epoch : 1300, 기울기 : 2.300038380484562, 절편 : 78.99977096168232\n",
      "epoch : 1400, 기울기 : 2.3000144393354365, 절편 : 78.9999138322214\n",
      "epoch : 1500, 기울기 : 2.3000054323026444, 절편 : 78.99996758234106\n",
      "epoch : 1600, 기울기 : 2.300002043716771, 절편 : 78.99998780397235\n",
      "epoch : 1700, 기울기 : 2.3000007688780433, 절편 : 78.99999541166466\n",
      "epoch : 1800, 기울기 : 2.300000289263884, 절편 : 78.99999827379686\n",
      "epoch : 1900, 기울기 : 2.3000001088255795, 절편 : 78.9999993505755\n",
      "epoch : 2000, 기울기 : 2.3000000409418653, 절편 : 78.99999975567644\n",
      "epoch : 2100, 기울기 : 2.300000015402966, 절편 : 78.99999990808166\n",
      "epoch : 2200, 기울기 : 2.3000000057948387, 절편 : 78.99999996541888\n",
      "epoch : 2300, 기울기 : 2.3000000021801132, 절편 : 78.99999998699\n",
      "epoch : 2400, 기울기 : 2.3000000008201873, 절편 : 78.99999999510547\n",
      "epoch : 2500, 기울기 : 2.3000000003085623, 절편 : 78.99999999815863\n",
      "epoch : 2600, 기울기 : 2.300000000116084, 절편 : 78.99999999930725\n",
      "epoch : 2700, 기울기 : 2.3000000000436582, 절편 : 78.99999999973946\n",
      "epoch : 2800, 기울기 : 2.3000000000164302, 절편 : 78.99999999990196\n",
      "epoch : 2900, 기울기 : 2.300000000006176, 절편 : 78.99999999996314\n",
      "epoch : 3000, 기울기 : 2.300000000002328, 절편 : 78.99999999998612\n",
      "epoch : 3100, 기울기 : 2.3000000000008787, 절편 : 78.99999999999477\n",
      "epoch : 3200, 기울기 : 2.3000000000003262, 절편 : 78.99999999999805\n",
      "epoch : 3300, 기울기 : 2.3000000000001046, 절편 : 78.99999999999935\n",
      "epoch : 3400, 기울기 : 2.3000000000000913, 절편 : 78.99999999999946\n",
      "epoch : 3500, 기울기 : 2.30000000000009, 절편 : 78.99999999999946\n",
      "epoch : 3600, 기울기 : 2.3000000000000886, 절편 : 78.99999999999946\n",
      "epoch : 3700, 기울기 : 2.3000000000000904, 절편 : 78.99999999999946\n",
      "epoch : 3800, 기울기 : 2.300000000000089, 절편 : 78.99999999999946\n",
      "epoch : 3900, 기울기 : 2.300000000000091, 절편 : 78.99999999999946\n",
      "epoch : 4000, 기울기 : 2.3000000000000895, 절편 : 78.99999999999946\n",
      "epoch : 4100, 기울기 : 2.3000000000000913, 절편 : 78.99999999999946\n",
      "epoch : 4200, 기울기 : 2.30000000000009, 절편 : 78.99999999999946\n",
      "epoch : 4300, 기울기 : 2.3000000000000886, 절편 : 78.99999999999946\n",
      "epoch : 4400, 기울기 : 2.3000000000000904, 절편 : 78.99999999999946\n",
      "epoch : 4500, 기울기 : 2.300000000000089, 절편 : 78.99999999999946\n",
      "epoch : 4600, 기울기 : 2.300000000000091, 절편 : 78.99999999999946\n",
      "epoch : 4700, 기울기 : 2.3000000000000895, 절편 : 78.99999999999946\n",
      "epoch : 4800, 기울기 : 2.3000000000000913, 절편 : 78.99999999999946\n",
      "epoch : 4900, 기울기 : 2.30000000000009, 절편 : 78.99999999999946\n"
     ]
    }
   ],
   "source": [
    "# 학습한다.\n",
    "# 학습 횟수만큼 반복한다.\n",
    "for i in range(epochs) : \n",
    "    # 현재의 기울기와 절편을 이용해 예측 결과를 가져온다.\n",
    "    y_pred = 기울기 * x_data + 절편\n",
    "#     print(y_pred)\n",
    "    # 오차를 구한다.\n",
    "    error = y_data - y_pred\n",
    "#     print(error)\n",
    "    \n",
    "    # 오차 함수를 기울기로 미분한 값\n",
    "    a_diff = - (2 /len(x_data) * sum(x_data * error))\n",
    "    # 오차함수를 절편으로 미분한 값\n",
    "    b_diff = - (2 / len(x_data) * sum(error))\n",
    "    \n",
    "#     print(a_diff)\n",
    "#     print(b_diff)\n",
    "    \n",
    "    # 학습률을 곱해 기존의 가중치와 절편을 업데이트 한다.\n",
    "    기울기 = 기울기 - (learning_rate * a_diff)\n",
    "    절편 = 절편 - (learning_rate * b_diff)\n",
    "    \n",
    "    # print(기울기)\n",
    "    # print(절편)\n",
    "    # 100회 마다 한번씩 출력\n",
    "    if i % 100 == 0 :\n",
    "        print(f\"epoch : {i}, 기울기 : {기울기}, 절편 : {절편}\")"
   ]
  },
  {
   "cell_type": "code",
   "execution_count": 8,
   "metadata": {},
   "outputs": [
    {
     "data": {
      "text/plain": [
       "array([83.6, 88.2, 92.8, 97.4])"
      ]
     },
     "execution_count": 8,
     "metadata": {},
     "output_type": "execute_result"
    }
   ],
   "source": [
    "# 발견한 기울기와 절편으로 예측 결과를 추출한다.\n",
    "y_pred = 기울기 * x_data + 절편\n",
    "y_pred"
   ]
  },
  {
   "cell_type": "code",
   "execution_count": 9,
   "metadata": {},
   "outputs": [
    {
     "data": {
      "image/png": "[encoded data removed]",
      "text/plain": [
       "<Figure size 1440x720 with 1 Axes>"
      ]
     },
     "metadata": {
      "needs_background": "light"
     },
     "output_type": "display_data"
    }
   ],
   "source": [
    "plt.scatter(공부한시간, 성적, label=\"original\")\n",
    "plt.scatter(공부한시간, y_pred, label=\"prediction\")\n",
    "plt.plot([min(x_data), max(x_data)], [min(y_pred), max(y_pred)])\n",
    "plt.legend()\n",
    "plt.show()"
   ]
  },
  {
   "cell_type": "code",
   "execution_count": null,
   "metadata": {},
   "outputs": [],
   "source": []
  }
 ],
 "metadata": {
  "kernelspec": {
   "display_name": "Python 3",
   "language": "python",
   "name": "python3"
  },
  "language_info": {
   "codemirror_mode": {
    "name": "ipython",
    "version": 3
   },
   "file_extension": ".py",
   "mimetype": "text/x-python",
   "name": "python",
   "nbconvert_exporter": "python",
   "pygments_lexer": "ipython3",
   "version": "3.8.5"
  }
 },
 "nbformat": 4,
 "nbformat_minor": 4
}
